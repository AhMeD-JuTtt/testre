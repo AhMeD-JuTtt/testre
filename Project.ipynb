{
  "metadata": {
    "language_info": {
      "codemirror_mode": {
        "name": "python",
        "version": 3
      },
      "file_extension": ".py",
      "mimetype": "text/x-python",
      "name": "python",
      "nbconvert_exporter": "python",
      "pygments_lexer": "ipython3",
      "version": "3.8"
    },
    "kernelspec": {
      "name": "python",
      "display_name": "Pyolite",
      "language": "python"
    }
  },
  "nbformat_minor": 4,
  "nbformat": 4,
  "cells": [
    {
      "cell_type": "markdown",
      "source": "**My Jupyter Notebook**\n\n**Nicolas Galaz**",
      "metadata": {}
    },
    {
      "cell_type": "markdown",
      "source": "I am interested in data science because i love working with data",
      "metadata": {}
    },
    {
      "cell_type": "markdown",
      "source": "**figonacci series for n numbers**",
      "metadata": {}
    },
    {
      "cell_type": "code",
      "source": "A = 0\nB = 1\nN = 10\nfor i in range(N):\n     C = A + B\n     A = B\n     B = C\n     print(C)",
      "metadata": {
        "trusted": true
      },
      "execution_count": 4,
      "outputs": [
        {
          "name": "stdout",
          "text": "1\n2\n3\n5\n8\n13\n21\n34\n55\n89\n",
          "output_type": "stream"
        }
      ]
    },
    {
      "cell_type": "code",
      "source": "",
      "metadata": {},
      "execution_count": null,
      "outputs": []
    }
  ]
}